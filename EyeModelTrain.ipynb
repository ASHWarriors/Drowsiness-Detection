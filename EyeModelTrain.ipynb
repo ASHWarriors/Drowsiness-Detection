{
 "cells": [
  {
   "cell_type": "code",
   "execution_count": 3,
   "metadata": {
    "id": "knhQMXyVadPg"
   },
   "outputs": [],
   "source": [
    "import numpy as np\n",
    "import cv2\n",
    "import os\n",
    "from keras.utils import np_utils\n",
    "from sklearn.model_selection import train_test_split\n",
    "from keras.models import Sequential\n",
    "from keras.layers import Dense, Flatten, Conv2D, MaxPooling2D, Activation, Dropout\n",
    "from keras.optimizers import SGD\n",
    "from keras.callbacks import ModelCheckpoint\n",
    "from keras.models import load_model\n",
    "import tensorflow.keras\n",
    "\n",
    "from PIL import Image, ImageOps\n",
    "import numpy as np"
   ]
  },
  {
   "cell_type": "code",
   "execution_count": 4,
   "metadata": {
    "colab": {
     "base_uri": "https://localhost:8080/"
    },
    "id": "T9wgEQzoadPo",
    "outputId": "bce2a1cf-e10e-449e-86c6-381bcfb155c0"
   },
   "outputs": [
    {
     "name": "stdout",
     "output_type": "stream",
     "text": [
      "<module 'tensorflow._api.v2.version' from 'C:\\\\Users\\\\Sristi\\\\anaconda3\\\\lib\\\\site-packages\\\\tensorflow\\\\_api\\\\v2\\\\version\\\\__init__.py'>\n"
     ]
    }
   ],
   "source": [
    "import tensorflow as tf\n",
    "print(tf.version)"
   ]
  },
  {
   "cell_type": "code",
   "execution_count": 3,
   "metadata": {
    "id": "qSwJq6SPadPq"
   },
   "outputs": [],
   "source": [
    "TRAIN_DIR = 'E:/DrowsyBrowsy/archive/Eye Dataset/Train_Data'\n",
    "TEST_DIR = 'E:/DrowsyBrowsy/archive/Eye Dataset/Test_Data'"
   ]
  },
  {
   "cell_type": "code",
   "execution_count": 4,
   "metadata": {
    "colab": {
     "base_uri": "https://localhost:8080/"
    },
    "id": "a52SRJLncJwh",
    "outputId": "a5d7fada-242c-48f8-8bf7-e333ffbd30b7"
   },
   "outputs": [
    {
     "name": "stdout",
     "output_type": "stream",
     "text": [
      "E:/DrowsyBrowsy/archive/Eye Dataset/Train_Data\n"
     ]
    }
   ],
   "source": [
    "print(TRAIN_DIR)"
   ]
  },
  {
   "cell_type": "code",
   "execution_count": 5,
   "metadata": {
    "id": "5lKm4BfDadPs"
   },
   "outputs": [],
   "source": [
    "def label_img(img):\n",
    "    word_label = img.split('_')[4]\n",
    "    if word_label[0] == '1': return [1,0] \n",
    "    elif word_label[0] == '0': return [0,1]\n",
    "    \n",
    "    #1 eyes are open\n",
    "    #0 eyes are closed"
   ]
  },
  {
   "cell_type": "code",
   "execution_count": 6,
   "metadata": {
    "id": "eLYrdY5PadPt"
   },
   "outputs": [],
   "source": [
    "X_test = []\n",
    "Y_test = []\n"
   ]
  },
  {
   "cell_type": "code",
   "execution_count": 56,
   "metadata": {
    "id": "fjU5h51sadPu"
   },
   "outputs": [],
   "source": [
    "def create_train_data():\n",
    "    X_train = []\n",
    "    Y_train = []\n",
    "    for img in tqdm(os.listdir(TRAIN_DIR)):\n",
    "        label = label_img(img)\n",
    "        path = os.path.join(TRAIN_DIR, img)\n",
    "        img = cv2.imread(path, cv2.IMREAD_GRAYSCALE)\n",
    "        resized_img = cv2.resize(img, (100, 100))\n",
    "        X_train.append(np.array(resized_img))\n",
    "        Y_train += [label]\n",
    "        \n",
    "    return X_train, Y_train\n"
   ]
  },
  {
   "cell_type": "code",
   "execution_count": 57,
   "metadata": {
    "colab": {
     "base_uri": "https://localhost:8080/",
     "height": 329
    },
    "id": "w-MpFDL_adPv",
    "outputId": "2de03a75-b149-48e4-d430-b82ab69e320d"
   },
   "outputs": [
    {
     "name": "stderr",
     "output_type": "stream",
     "text": [
      "100%|██████████████████████████████████████████████████████████████████████████████████| 32623/32623 [00:20<00:00, 1600.24it/s]\n"
     ]
    }
   ],
   "source": [
    "X_train,Y_train = create_train_data()"
   ]
  },
  {
   "cell_type": "code",
   "execution_count": 58,
   "metadata": {},
   "outputs": [],
   "source": [
    "X_train = np.asarray(X_train)\n",
    "Y_train = np.asarray(Y_train)"
   ]
  },
  {
   "cell_type": "code",
   "execution_count": 59,
   "metadata": {},
   "outputs": [
    {
     "data": {
      "text/plain": [
       "32623"
      ]
     },
     "execution_count": 59,
     "metadata": {},
     "output_type": "execute_result"
    }
   ],
   "source": [
    "len(X_train)"
   ]
  },
  {
   "cell_type": "code",
   "execution_count": 60,
   "metadata": {},
   "outputs": [
    {
     "data": {
      "text/plain": [
       "32623"
      ]
     },
     "execution_count": 60,
     "metadata": {},
     "output_type": "execute_result"
    }
   ],
   "source": [
    "len(Y_train)"
   ]
  },
  {
   "cell_type": "code",
   "execution_count": 61,
   "metadata": {},
   "outputs": [
    {
     "data": {
      "text/plain": [
       "(32623, 100, 100)"
      ]
     },
     "execution_count": 61,
     "metadata": {},
     "output_type": "execute_result"
    }
   ],
   "source": [
    "X_train.shape"
   ]
  },
  {
   "cell_type": "code",
   "execution_count": 62,
   "metadata": {
    "id": "60TU54kfadPx"
   },
   "outputs": [],
   "source": [
    "def create_test_data():\n",
    "    X_test = []\n",
    "    Y_test = []\n",
    "    for img in tqdm(os.listdir(TEST_DIR)):\n",
    "        label = label_img(img)\n",
    "        path = os.path.join(TEST_DIR, img)\n",
    "        img = cv2.imread(path, cv2.IMREAD_GRAYSCALE)\n",
    "        resized_img = cv2.resize(img, (100, 100))\n",
    "        X_test.append(np.array(resized_img))\n",
    "        Y_test += [label]\n",
    "        \n",
    "    return X_test, Y_test"
   ]
  },
  {
   "cell_type": "code",
   "execution_count": 63,
   "metadata": {
    "id": "uzvLwWKOadP1",
    "outputId": "d72aace0-e147-4e74-a93c-151f694ddbcb"
   },
   "outputs": [
    {
     "name": "stderr",
     "output_type": "stream",
     "text": [
      "100%|██████████████████████████████████████████████████████████████████████████████████| 14550/14550 [00:06<00:00, 2105.24it/s]\n"
     ]
    }
   ],
   "source": [
    "X_test, Y_test = create_test_data()"
   ]
  },
  {
   "cell_type": "code",
   "execution_count": 64,
   "metadata": {},
   "outputs": [],
   "source": [
    "X_test = np.asarray(X_test)\n",
    "Y_test = np.asarray(Y_test)"
   ]
  },
  {
   "cell_type": "code",
   "execution_count": 102,
   "metadata": {
    "id": "ISyb0cNradP3"
   },
   "outputs": [],
   "source": [
    "from keras.models import Sequential\n",
    "from keras.layers import Dense, Flatten, Conv2D, MaxPooling2D, Activation, Dropout\n",
    "from keras.optimizers import SGD\n",
    "from keras.callbacks import ModelCheckpoint"
   ]
  },
  {
   "cell_type": "code",
   "execution_count": 103,
   "metadata": {
    "id": "5EvZeW-vadP4"
   },
   "outputs": [],
   "source": [
    "model = Sequential()"
   ]
  },
  {
   "cell_type": "code",
   "execution_count": 104,
   "metadata": {
    "id": "KdKIVqR3adP6"
   },
   "outputs": [
    {
     "data": {
      "text/plain": [
       "(32623, 100, 100, 1)"
      ]
     },
     "execution_count": 104,
     "metadata": {},
     "output_type": "execute_result"
    }
   ],
   "source": [
    "X_train.shape"
   ]
  },
  {
   "cell_type": "code",
   "execution_count": 105,
   "metadata": {},
   "outputs": [
    {
     "data": {
      "text/plain": [
       "(32623, 2)"
      ]
     },
     "execution_count": 105,
     "metadata": {},
     "output_type": "execute_result"
    }
   ],
   "source": [
    "Y_train.shape"
   ]
  },
  {
   "cell_type": "code",
   "execution_count": 106,
   "metadata": {},
   "outputs": [],
   "source": [
    "X_train = X_train.reshape(32623, 100, 100, 1)"
   ]
  },
  {
   "cell_type": "code",
   "execution_count": 107,
   "metadata": {},
   "outputs": [],
   "source": [
    "Y_train = Y_train.reshape(32623,2)"
   ]
  },
  {
   "cell_type": "code",
   "execution_count": 108,
   "metadata": {
    "id": "ifInBZ-gadP6"
   },
   "outputs": [],
   "source": [
    "model.add(Conv2D(200, (3,3), input_shape=(100, 100, 1)))\n",
    "model.add(Activation('relu'))\n",
    "model.add(MaxPooling2D(pool_size=(2, 2)))\n",
    "\n",
    "model.add(Conv2D(100, (3,3)))\n",
    "model.add(Activation('relu'))\n",
    "model.add(MaxPooling2D(pool_size=(2, 2)))\n",
    "\n",
    "model.add(Dropout(0.3))\n",
    "model.add(Flatten())\n",
    "\n",
    "model.add(Dense(50, activation='relu'))\n",
    "model.add(Dense(2, activation='softmax'))\n",
    "\n",
    "model.compile(loss='categorical_crossentropy', optimizer='adam', metrics=['accuracy'])"
   ]
  },
  {
   "cell_type": "code",
   "execution_count": 109,
   "metadata": {
    "id": "pkOCKfH1adP7"
   },
   "outputs": [
    {
     "name": "stdout",
     "output_type": "stream",
     "text": [
      "Epoch 1/6\n",
      "816/816 [==============================] - 1624s 2s/step - loss: 3.5319 - accuracy: 0.8427 - val_loss: 0.5339 - val_accuracy: 0.6771\n",
      "INFO:tensorflow:Assets written to: model-best\\assets\n",
      "Epoch 2/6\n",
      "816/816 [==============================] - 1609s 2s/step - loss: 0.2323 - accuracy: 0.9149 - val_loss: 0.2158 - val_accuracy: 0.9350\n",
      "INFO:tensorflow:Assets written to: model-best\\assets\n",
      "Epoch 3/6\n",
      "816/816 [==============================] - 1502s 2s/step - loss: 0.1823 - accuracy: 0.9334 - val_loss: 0.2348 - val_accuracy: 0.9318\n",
      "Epoch 4/6\n",
      "816/816 [==============================] - 1485s 2s/step - loss: 0.3161 - accuracy: 0.8792 - val_loss: 0.6507 - val_accuracy: 0.6703\n",
      "Epoch 5/6\n",
      "816/816 [==============================] - 1452s 2s/step - loss: 0.5594 - accuracy: 0.7527 - val_loss: 0.6549 - val_accuracy: 0.6703\n",
      "Epoch 6/6\n",
      "816/816 [==============================] - 1466s 2s/step - loss: 0.5562 - accuracy: 0.7556 - val_loss: 0.6537 - val_accuracy: 0.6703\n"
     ]
    },
    {
     "data": {
      "text/plain": [
       "<tensorflow.python.keras.callbacks.History at 0x2c908db9af0>"
      ]
     },
     "execution_count": 109,
     "metadata": {},
     "output_type": "execute_result"
    }
   ],
   "source": [
    "cp = ModelCheckpoint('model-best', verbose=0, save_best_only=True)\n",
    "model.fit(X_train, Y_train, epochs = 6,callbacks=[cp], validation_split=0.2)"
   ]
  }
 ],
 "metadata": {
  "colab": {
   "collapsed_sections": [],
   "name": "Blinky.ipynb",
   "provenance": []
  },
  "kernelspec": {
   "display_name": "Python 3",
   "language": "python",
   "name": "python3"
  },
  "language_info": {
   "codemirror_mode": {
    "name": "ipython",
    "version": 3
   },
   "file_extension": ".py",
   "mimetype": "text/x-python",
   "name": "python",
   "nbconvert_exporter": "python",
   "pygments_lexer": "ipython3",
   "version": "3.8.5"
  }
 },
 "nbformat": 4,
 "nbformat_minor": 4
}
